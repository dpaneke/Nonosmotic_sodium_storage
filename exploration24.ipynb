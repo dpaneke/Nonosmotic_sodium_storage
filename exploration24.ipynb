{
 "cells": [
  {
   "cell_type": "code",
   "execution_count": 10,
   "id": "59b44ff8",
   "metadata": {},
   "outputs": [],
   "source": [
    "import h5py;\n",
    "import numpy as np;\n",
    "import pandas as pd;\n",
    "from sklearn.preprocessing import MinMaxScaler\n",
    "import matplotlib.pyplot as plt\n",
    "from matplotlib import cm\n",
    "from sklearn.cluster import AgglomerativeClustering, DBSCAN"
   ]
  },
  {
   "cell_type": "markdown",
   "id": "6a6b6222",
   "metadata": {},
   "source": [
    "# Problem"
   ]
  },
  {
   "cell_type": "markdown",
   "id": "60d0eee9",
   "metadata": {},
   "source": [
    "The aim of this investigation is to find a way how to determine whether the given point of muscle is a cellular space or an interstitial space by spectral images. Let's begin the exploration from the fact that sodium is easily washing away element, so it luminesces mostly from cellular space.\n",
    "\n",
    "So the simple idea is to make a dataset, which contains coordinate and sodium luminescence intenisty of the given point. And then find optimal parameters for clusterisation algorithm to divide cellular and intersticial clusters accurately.\n",
    "\n",
    "Of course, this approach is quite simple and depends on good feature engineering (not only coordinates and sodium luminiscence intensity), that is a subject for further discussions"
   ]
  },
  {
   "cell_type": "code",
   "execution_count": 11,
   "id": "4ae389d8",
   "metadata": {},
   "outputs": [],
   "source": [
    "# code numbers of scans\n",
    "scan_numbers = [7, 9, 16, 24, 27, 30, 43, 48, 52,\n",
    "                61, 63, 68, 78, 81, 83, 90, 92, 95]"
   ]
  },
  {
   "cell_type": "markdown",
   "id": "2ca8e3c7",
   "metadata": {},
   "source": [
    "# Useful functions"
   ]
  },
  {
   "cell_type": "code",
   "execution_count": 12,
   "id": "32bf16fa",
   "metadata": {},
   "outputs": [],
   "source": [
    "# getting array from h5 file\n",
    "def get_array(scan_num):\n",
    "    scan_code = f'0{scan_num}' if scan_num < 10 else scan_num\n",
    "    file_path = f'Fitting/scan_{scan_code}/sdd0134567/xrf_flat_scan_{scan_num}_aligned.h5'\n",
    "    f = h5py.File(file_path, 'r')\n",
    "    return np.array(f[f'xrf_flat_scan_{scan_num}_aligned']['plotselect']['Na_K'])"
   ]
  },
  {
   "cell_type": "code",
   "execution_count": 13,
   "id": "8ac75a6c",
   "metadata": {},
   "outputs": [],
   "source": [
    "# organising data i.e. features from array (x pos, y pos and spectral intensity)\n",
    "def get_pd_from_array(array):\n",
    "    data_arr = []\n",
    "    for i in range(array.shape[0]):\n",
    "        for j in range(array.shape[1]):\n",
    "            data_arr.append([i, j, array[i, j]])\n",
    "        \n",
    "    return pd.DataFrame(data=data_arr, columns=['x', 'y', 'Intensity'])"
   ]
  },
  {
   "cell_type": "code",
   "execution_count": 14,
   "id": "a74e93f2",
   "metadata": {},
   "outputs": [],
   "source": [
    "# getting data, scaled data and plotting the scan\n",
    "def aggregate_data(arr):\n",
    "    pd_arr = get_pd_from_array(arr)\n",
    "    pd_arr_scaled = MinMaxScaler().fit_transform(pd_arr)\n",
    "    plt.pcolormesh(arr, cmap=cm.get_cmap('jet'))\n",
    "    return pd_arr, pd_arr_scaled"
   ]
  },
  {
   "cell_type": "markdown",
   "id": "0afa3ca4",
   "metadata": {},
   "source": [
    "# Finding good parameters of clasterisation for specific scan. For example, scan_24"
   ]
  },
  {
   "cell_type": "code",
   "execution_count": 17,
   "id": "17e23c47",
   "metadata": {},
   "outputs": [],
   "source": [
    "arr24 = get_array(24)"
   ]
  },
  {
   "cell_type": "markdown",
   "id": "5cb0e4a3",
   "metadata": {},
   "source": [
    "## Replace nan"
   ]
  },
  {
   "cell_type": "code",
   "execution_count": 18,
   "id": "4c4464b7",
   "metadata": {},
   "outputs": [
    {
     "data": {
      "text/plain": [
       "True"
      ]
     },
     "execution_count": 18,
     "metadata": {},
     "output_type": "execute_result"
    }
   ],
   "source": [
    "np.any(np.isnan(arr24))"
   ]
  },
  {
   "cell_type": "code",
   "execution_count": 19,
   "id": "1b34c2d7",
   "metadata": {},
   "outputs": [
    {
     "data": {
      "text/plain": [
       "array([[ 1, 35],\n",
       "       [97, 20]], dtype=int64)"
      ]
     },
     "execution_count": 19,
     "metadata": {},
     "output_type": "execute_result"
    }
   ],
   "source": [
    "na_indices = np.argwhere(np.isnan(arr24))\n",
    "na_indices"
   ]
  },
  {
   "cell_type": "code",
   "execution_count": 24,
   "id": "a107e2c2",
   "metadata": {},
   "outputs": [],
   "source": [
    "def replace_nan_with_neighbours_mean(arr):\n",
    "    na_indices = np.argwhere(np.isnan(arr))\n",
    "    for i_j in na_indices:\n",
    "        i, j = i_j[0], i_j[1] \n",
    "        arr[i, j] = (arr[i, j-1]+arr[i, j-1]) / 2;"
   ]
  },
  {
   "cell_type": "code",
   "execution_count": 25,
   "id": "a27fdcea",
   "metadata": {},
   "outputs": [],
   "source": [
    "replace_nan_with_neighbours_mean(arr24)"
   ]
  },
  {
   "cell_type": "code",
   "execution_count": 26,
   "id": "af83e73c",
   "metadata": {},
   "outputs": [
    {
     "data": {
      "image/png": "[encoded data removed]",
      "text/plain": [
       "<Figure size 432x288 with 1 Axes>"
      ]
     },
     "metadata": {
      "needs_background": "light"
     },
     "output_type": "display_data"
    }
   ],
   "source": [
    "data24, data24_scaled = aggregate_data(arr24)"
   ]
  },
  {
   "cell_type": "code",
   "execution_count": 27,
   "id": "203ce9c2",
   "metadata": {},
   "outputs": [
    {
     "data": {
      "text/html": [
       "<div>\n",
       "<style scoped>\n",
       "    .dataframe tbody tr th:only-of-type {\n",
       "        vertical-align: middle;\n",
       "    }\n",
       "\n",
       "    .dataframe tbody tr th {\n",
       "        vertical-align: top;\n",
       "    }\n",
       "\n",
       "    .dataframe thead th {\n",
       "        text-align: right;\n",
       "    }\n",
       "</style>\n",
       "<table border=\"1\" class=\"dataframe\">\n",
       "  <thead>\n",
       "    <tr style=\"text-align: right;\">\n",
       "      <th></th>\n",
       "      <th>x</th>\n",
       "      <th>y</th>\n",
       "      <th>Intensity</th>\n",
       "    </tr>\n",
       "  </thead>\n",
       "  <tbody>\n",
       "    <tr>\n",
       "      <th>4489</th>\n",
       "      <td>37</td>\n",
       "      <td>12</td>\n",
       "      <td>59192.742188</td>\n",
       "    </tr>\n",
       "    <tr>\n",
       "      <th>4368</th>\n",
       "      <td>36</td>\n",
       "      <td>12</td>\n",
       "      <td>42601.000000</td>\n",
       "    </tr>\n",
       "    <tr>\n",
       "      <th>3056</th>\n",
       "      <td>25</td>\n",
       "      <td>31</td>\n",
       "      <td>25661.185547</td>\n",
       "    </tr>\n",
       "    <tr>\n",
       "      <th>3055</th>\n",
       "      <td>25</td>\n",
       "      <td>30</td>\n",
       "      <td>25466.730469</td>\n",
       "    </tr>\n",
       "    <tr>\n",
       "      <th>3306</th>\n",
       "      <td>27</td>\n",
       "      <td>39</td>\n",
       "      <td>24889.357422</td>\n",
       "    </tr>\n",
       "    <tr>\n",
       "      <th>...</th>\n",
       "      <td>...</td>\n",
       "      <td>...</td>\n",
       "      <td>...</td>\n",
       "    </tr>\n",
       "    <tr>\n",
       "      <th>9877</th>\n",
       "      <td>81</td>\n",
       "      <td>76</td>\n",
       "      <td>91.207268</td>\n",
       "    </tr>\n",
       "    <tr>\n",
       "      <th>11587</th>\n",
       "      <td>95</td>\n",
       "      <td>92</td>\n",
       "      <td>90.410210</td>\n",
       "    </tr>\n",
       "    <tr>\n",
       "      <th>10853</th>\n",
       "      <td>89</td>\n",
       "      <td>84</td>\n",
       "      <td>86.719002</td>\n",
       "    </tr>\n",
       "    <tr>\n",
       "      <th>10736</th>\n",
       "      <td>88</td>\n",
       "      <td>88</td>\n",
       "      <td>78.455849</td>\n",
       "    </tr>\n",
       "    <tr>\n",
       "      <th>11344</th>\n",
       "      <td>93</td>\n",
       "      <td>91</td>\n",
       "      <td>77.382439</td>\n",
       "    </tr>\n",
       "  </tbody>\n",
       "</table>\n",
       "<p>12221 rows × 3 columns</p>\n",
       "</div>"
      ],
      "text/plain": [
       "        x   y     Intensity\n",
       "4489   37  12  59192.742188\n",
       "4368   36  12  42601.000000\n",
       "3056   25  31  25661.185547\n",
       "3055   25  30  25466.730469\n",
       "3306   27  39  24889.357422\n",
       "...    ..  ..           ...\n",
       "9877   81  76     91.207268\n",
       "11587  95  92     90.410210\n",
       "10853  89  84     86.719002\n",
       "10736  88  88     78.455849\n",
       "11344  93  91     77.382439\n",
       "\n",
       "[12221 rows x 3 columns]"
      ]
     },
     "execution_count": 27,
     "metadata": {},
     "output_type": "execute_result"
    }
   ],
   "source": [
    "data24.sort_values(by='Intensity', ascending=False)"
   ]
  },
  {
   "cell_type": "code",
   "execution_count": 28,
   "id": "42c51a65",
   "metadata": {},
   "outputs": [],
   "source": [
    "arr24[37, 12] = (arr24[37, 11] + arr24[37, 13]) / 2"
   ]
  },
  {
   "cell_type": "code",
   "execution_count": 29,
   "id": "09967205",
   "metadata": {},
   "outputs": [],
   "source": [
    "arr24[36, 12] = (arr24[36, 11] + arr24[36, 13]) / 2"
   ]
  },
  {
   "cell_type": "markdown",
   "id": "f1f43745",
   "metadata": {},
   "source": [
    "## Fixed scan_24"
   ]
  },
  {
   "cell_type": "code",
   "execution_count": 37,
   "id": "017809b1",
   "metadata": {},
   "outputs": [
    {
     "data": {
      "image/png": "[encoded data removed]",
      "text/plain": [
       "<Figure size 432x288 with 1 Axes>"
      ]
     },
     "metadata": {
      "needs_background": "light"
     },
     "output_type": "display_data"
    }
   ],
   "source": [
    "data24, data24_scaled = aggregate_data(arr24)"
   ]
  },
  {
   "cell_type": "markdown",
   "id": "e619e76e",
   "metadata": {},
   "source": [
    "## Dummy"
   ]
  },
  {
   "cell_type": "code",
   "execution_count": 31,
   "id": "8635a439",
   "metadata": {},
   "outputs": [
    {
     "data": {
      "text/plain": [
       "<matplotlib.collections.QuadMesh at 0x22249bc6730>"
      ]
     },
     "execution_count": 31,
     "metadata": {},
     "output_type": "execute_result"
    },
    {
     "data": {
      "image/png": "[encoded data removed]",
      "text/plain": [
       "<Figure size 432x288 with 1 Axes>"
      ]
     },
     "metadata": {
      "needs_background": "light"
     },
     "output_type": "display_data"
    }
   ],
   "source": [
    "plt.pcolormesh(arr24 < arr24.mean(), cmap=cm.get_cmap('Greys'))"
   ]
  },
  {
   "cell_type": "markdown",
   "id": "e5e5f348",
   "metadata": {},
   "source": [
    "## Agglomerative clustering"
   ]
  },
  {
   "cell_type": "code",
   "execution_count": 32,
   "id": "39d1d215",
   "metadata": {},
   "outputs": [],
   "source": [
    "agg_clustering = AgglomerativeClustering(n_clusters=2, affinity='euclidean', linkage='ward')"
   ]
  },
  {
   "cell_type": "code",
   "execution_count": 33,
   "id": "244f2fbc",
   "metadata": {},
   "outputs": [],
   "source": [
    "const = 10\n",
    "\n",
    "data24_scaled_ = data24_scaled.copy()\n",
    "data24_scaled_[:, 2] *= const"
   ]
  },
  {
   "cell_type": "code",
   "execution_count": 34,
   "id": "e7d710b3",
   "metadata": {},
   "outputs": [],
   "source": [
    "clusters24 = agg_clustering.fit(data24_scaled_)"
   ]
  },
  {
   "cell_type": "code",
   "execution_count": 35,
   "id": "8b73801a",
   "metadata": {},
   "outputs": [
    {
     "data": {
      "text/plain": [
       "<matplotlib.collections.QuadMesh at 0x22249c86e20>"
      ]
     },
     "execution_count": 35,
     "metadata": {},
     "output_type": "execute_result"
    },
    {
     "data": {
      "image/png": "[encoded data removed]",
      "text/plain": [
       "<Figure size 432x288 with 1 Axes>"
      ]
     },
     "metadata": {
      "needs_background": "light"
     },
     "output_type": "display_data"
    }
   ],
   "source": [
    "new_map = clusters24.labels_.reshape(arr24.shape)\n",
    "plt.pcolormesh(new_map, cmap=cm.get_cmap('Greys'))"
   ]
  },
  {
   "cell_type": "code",
   "execution_count": 943,
   "id": "f0c33204",
   "metadata": {},
   "outputs": [],
   "source": [
    "# 'euclidean', 'l1', 'l2', 'manhattan', 'cosine'\n",
    "# 'ward', 'complete', 'average', 'single'"
   ]
  },
  {
   "cell_type": "markdown",
   "id": "53f79a9e",
   "metadata": {},
   "source": [
    "## DBSCAN"
   ]
  },
  {
   "cell_type": "code",
   "execution_count": 986,
   "id": "beee6a45",
   "metadata": {},
   "outputs": [],
   "source": [
    "eps = 0.1\n",
    "perc = 0.1 # part of points in epsilon area, which we will treat as min_samples to be considered as a core point\n",
    "\n",
    "min_samples = int(perc * np.pi*(eps * max(arr24.shape))**2)\n",
    "params24 = {'eps': eps, 'min_samples': min_samples}"
   ]
  },
  {
   "cell_type": "code",
   "execution_count": 987,
   "id": "0333c249",
   "metadata": {},
   "outputs": [
    {
     "data": {
      "text/plain": [
       "45"
      ]
     },
     "execution_count": 987,
     "metadata": {},
     "output_type": "execute_result"
    }
   ],
   "source": [
    "min_samples"
   ]
  },
  {
   "cell_type": "code",
   "execution_count": 988,
   "id": "03de26ef",
   "metadata": {},
   "outputs": [],
   "source": [
    "dbscan = DBSCAN(**params24)\n",
    "clustering24 = dbscan.fit(data24_scaled)"
   ]
  },
  {
   "cell_type": "code",
   "execution_count": 989,
   "id": "c9eb9060",
   "metadata": {},
   "outputs": [
    {
     "data": {
      "text/plain": [
       "array([0, 0, 0, ..., 3, 3, 3], dtype=int64)"
      ]
     },
     "execution_count": 989,
     "metadata": {},
     "output_type": "execute_result"
    }
   ],
   "source": [
    "clustering24.labels_"
   ]
  },
  {
   "cell_type": "code",
   "execution_count": 990,
   "id": "32b6db8b",
   "metadata": {},
   "outputs": [
    {
     "data": {
      "text/plain": [
       "<matplotlib.collections.QuadMesh at 0x1c029b2a040>"
      ]
     },
     "execution_count": 990,
     "metadata": {},
     "output_type": "execute_result"
    },
    {
     "data": {
      "image/png": "[encoded data removed]",
      "text/plain": [
       "<Figure size 432x288 with 1 Axes>"
      ]
     },
     "metadata": {
      "needs_background": "light"
     },
     "output_type": "display_data"
    }
   ],
   "source": [
    "plt.pcolormesh(clustering24.labels_.reshape(101, 121),\n",
    "               cmap=cm.get_cmap('viridis'))"
   ]
  },
  {
   "cell_type": "markdown",
   "id": "876cf1cd",
   "metadata": {},
   "source": [
    "**We can turn it into binary clusterisation choosing threshold judging by cluster average intenisty**"
   ]
  },
  {
   "cell_type": "code",
   "execution_count": 991,
   "id": "f14b710f",
   "metadata": {},
   "outputs": [
    {
     "data": {
      "text/plain": [
       "array([-1,  0,  1,  2,  3], dtype=int64)"
      ]
     },
     "execution_count": 991,
     "metadata": {},
     "output_type": "execute_result"
    }
   ],
   "source": [
    "np.unique(clustering.labels_)"
   ]
  },
  {
   "cell_type": "code",
   "execution_count": 992,
   "id": "f815cf32",
   "metadata": {},
   "outputs": [],
   "source": [
    "data24_clust = pd.DataFrame(data24_scaled, columns=['x', 'y', 'I'])"
   ]
  },
  {
   "cell_type": "code",
   "execution_count": 993,
   "id": "022a5d07",
   "metadata": {},
   "outputs": [],
   "source": [
    "data24_clust['clust'] = clustering24.labels_"
   ]
  },
  {
   "cell_type": "code",
   "execution_count": 994,
   "id": "4d8100f9",
   "metadata": {},
   "outputs": [
    {
     "data": {
      "text/html": [
       "<div>\n",
       "<style scoped>\n",
       "    .dataframe tbody tr th:only-of-type {\n",
       "        vertical-align: middle;\n",
       "    }\n",
       "\n",
       "    .dataframe tbody tr th {\n",
       "        vertical-align: top;\n",
       "    }\n",
       "\n",
       "    .dataframe thead th {\n",
       "        text-align: right;\n",
       "    }\n",
       "</style>\n",
       "<table border=\"1\" class=\"dataframe\">\n",
       "  <thead>\n",
       "    <tr style=\"text-align: right;\">\n",
       "      <th></th>\n",
       "      <th>x</th>\n",
       "      <th>y</th>\n",
       "      <th>I</th>\n",
       "      <th>clust</th>\n",
       "    </tr>\n",
       "  </thead>\n",
       "  <tbody>\n",
       "    <tr>\n",
       "      <th>0</th>\n",
       "      <td>0.0</td>\n",
       "      <td>0.000000</td>\n",
       "      <td>0.549032</td>\n",
       "      <td>0</td>\n",
       "    </tr>\n",
       "    <tr>\n",
       "      <th>1</th>\n",
       "      <td>0.0</td>\n",
       "      <td>0.008333</td>\n",
       "      <td>0.554709</td>\n",
       "      <td>0</td>\n",
       "    </tr>\n",
       "    <tr>\n",
       "      <th>2</th>\n",
       "      <td>0.0</td>\n",
       "      <td>0.016667</td>\n",
       "      <td>0.612895</td>\n",
       "      <td>0</td>\n",
       "    </tr>\n",
       "    <tr>\n",
       "      <th>3</th>\n",
       "      <td>0.0</td>\n",
       "      <td>0.025000</td>\n",
       "      <td>0.574224</td>\n",
       "      <td>0</td>\n",
       "    </tr>\n",
       "    <tr>\n",
       "      <th>4</th>\n",
       "      <td>0.0</td>\n",
       "      <td>0.033333</td>\n",
       "      <td>0.568090</td>\n",
       "      <td>0</td>\n",
       "    </tr>\n",
       "    <tr>\n",
       "      <th>...</th>\n",
       "      <td>...</td>\n",
       "      <td>...</td>\n",
       "      <td>...</td>\n",
       "      <td>...</td>\n",
       "    </tr>\n",
       "    <tr>\n",
       "      <th>12216</th>\n",
       "      <td>1.0</td>\n",
       "      <td>0.966667</td>\n",
       "      <td>0.484715</td>\n",
       "      <td>3</td>\n",
       "    </tr>\n",
       "    <tr>\n",
       "      <th>12217</th>\n",
       "      <td>1.0</td>\n",
       "      <td>0.975000</td>\n",
       "      <td>0.452044</td>\n",
       "      <td>3</td>\n",
       "    </tr>\n",
       "    <tr>\n",
       "      <th>12218</th>\n",
       "      <td>1.0</td>\n",
       "      <td>0.983333</td>\n",
       "      <td>0.457682</td>\n",
       "      <td>3</td>\n",
       "    </tr>\n",
       "    <tr>\n",
       "      <th>12219</th>\n",
       "      <td>1.0</td>\n",
       "      <td>0.991667</td>\n",
       "      <td>0.491195</td>\n",
       "      <td>3</td>\n",
       "    </tr>\n",
       "    <tr>\n",
       "      <th>12220</th>\n",
       "      <td>1.0</td>\n",
       "      <td>1.000000</td>\n",
       "      <td>0.439489</td>\n",
       "      <td>3</td>\n",
       "    </tr>\n",
       "  </tbody>\n",
       "</table>\n",
       "<p>12221 rows × 4 columns</p>\n",
       "</div>"
      ],
      "text/plain": [
       "         x         y         I  clust\n",
       "0      0.0  0.000000  0.549032      0\n",
       "1      0.0  0.008333  0.554709      0\n",
       "2      0.0  0.016667  0.612895      0\n",
       "3      0.0  0.025000  0.574224      0\n",
       "4      0.0  0.033333  0.568090      0\n",
       "...    ...       ...       ...    ...\n",
       "12216  1.0  0.966667  0.484715      3\n",
       "12217  1.0  0.975000  0.452044      3\n",
       "12218  1.0  0.983333  0.457682      3\n",
       "12219  1.0  0.991667  0.491195      3\n",
       "12220  1.0  1.000000  0.439489      3\n",
       "\n",
       "[12221 rows x 4 columns]"
      ]
     },
     "execution_count": 994,
     "metadata": {},
     "output_type": "execute_result"
    }
   ],
   "source": [
    "data24_clust"
   ]
  },
  {
   "cell_type": "code",
   "execution_count": 995,
   "id": "44baa521",
   "metadata": {},
   "outputs": [],
   "source": [
    "average_I = {}\n",
    "\n",
    "for label in np.unique(clustering.labels_):\n",
    "    av_I_label = data24_clust[data24_clust.clust == label].I.mean()\n",
    "    average_I[label] = av_I_label"
   ]
  },
  {
   "cell_type": "code",
   "execution_count": 996,
   "id": "3c295a96",
   "metadata": {},
   "outputs": [
    {
     "data": {
      "text/plain": [
       "{-1: 0.45946780677949645,\n",
       " 0: 0.6672191343216148,\n",
       " 1: 0.01575743872505357,\n",
       " 2: 0.49282564512862453,\n",
       " 3: 0.5002208680193466}"
      ]
     },
     "execution_count": 996,
     "metadata": {},
     "output_type": "execute_result"
    }
   ],
   "source": [
    "average_I"
   ]
  },
  {
   "cell_type": "code",
   "execution_count": 997,
   "id": "c5955a58",
   "metadata": {},
   "outputs": [],
   "source": [
    "threshold = average_I[-1]\n",
    "data24_clust['bin'] = [int(average_I[label] > threshold) for label in data24_clust.clust]"
   ]
  },
  {
   "cell_type": "code",
   "execution_count": 998,
   "id": "9ff67a3c",
   "metadata": {},
   "outputs": [
    {
     "data": {
      "text/plain": [
       "<matplotlib.collections.QuadMesh at 0x1c02bf11d30>"
      ]
     },
     "execution_count": 998,
     "metadata": {},
     "output_type": "execute_result"
    },
    {
     "data": {
      "image/png": "[encoded data removed]",
      "text/plain": [
       "<Figure size 432x288 with 1 Axes>"
      ]
     },
     "metadata": {
      "needs_background": "light"
     },
     "output_type": "display_data"
    }
   ],
   "source": [
    "plt.pcolormesh(data24_clust['bin'].values.reshape(101, 121), cmap=cm.get_cmap('Greys'))"
   ]
  },
  {
   "cell_type": "markdown",
   "id": "babc7d88",
   "metadata": {},
   "source": [
    "# New data"
   ]
  },
  {
   "cell_type": "markdown",
   "id": "2b734861",
   "metadata": {},
   "source": [
    "# scan_16"
   ]
  },
  {
   "cell_type": "code",
   "execution_count": 999,
   "id": "e3bfa193",
   "metadata": {},
   "outputs": [],
   "source": [
    "arr16 = get_array(16)"
   ]
  },
  {
   "cell_type": "code",
   "execution_count": 1000,
   "id": "0bf147da",
   "metadata": {},
   "outputs": [
    {
     "data": {
      "text/plain": [
       "False"
      ]
     },
     "execution_count": 1000,
     "metadata": {},
     "output_type": "execute_result"
    }
   ],
   "source": [
    "np.any(np.isnan(arr16))"
   ]
  },
  {
   "cell_type": "code",
   "execution_count": 1001,
   "id": "0c29e15b",
   "metadata": {},
   "outputs": [
    {
     "data": {
      "image/png": "[encoded data removed]",
      "text/plain": [
       "<Figure size 432x288 with 1 Axes>"
      ]
     },
     "metadata": {
      "needs_background": "light"
     },
     "output_type": "display_data"
    }
   ],
   "source": [
    "data16, data16_scaled = aggregate_data(arr16)"
   ]
  },
  {
   "cell_type": "code",
   "execution_count": 1002,
   "id": "a513f3e1",
   "metadata": {},
   "outputs": [
    {
     "data": {
      "text/plain": [
       "(61, 121)"
      ]
     },
     "execution_count": 1002,
     "metadata": {},
     "output_type": "execute_result"
    }
   ],
   "source": [
    "arr16.shape"
   ]
  },
  {
   "cell_type": "markdown",
   "id": "7188683f",
   "metadata": {},
   "source": [
    "## Dummy"
   ]
  },
  {
   "cell_type": "code",
   "execution_count": 1057,
   "id": "d9600236",
   "metadata": {},
   "outputs": [
    {
     "data": {
      "text/plain": [
       "<matplotlib.collections.QuadMesh at 0x1c02e8c0d30>"
      ]
     },
     "execution_count": 1057,
     "metadata": {},
     "output_type": "execute_result"
    },
    {
     "data": {
      "image/png": "[encoded data removed]",
      "text/plain": [
       "<Figure size 432x288 with 1 Axes>"
      ]
     },
     "metadata": {
      "needs_background": "light"
     },
     "output_type": "display_data"
    }
   ],
   "source": [
    "plt.pcolormesh(arr16 < arr16.mean(), cmap=cm.get_cmap('Greys'))"
   ]
  },
  {
   "cell_type": "markdown",
   "id": "6eaad2e2",
   "metadata": {},
   "source": [
    "## Agglomerative clustering"
   ]
  },
  {
   "cell_type": "code",
   "execution_count": 1081,
   "id": "82aa6553",
   "metadata": {},
   "outputs": [],
   "source": [
    "data16_scaled_ = data16_scaled.copy()\n",
    "data16_scaled_[:, 2] *= const"
   ]
  },
  {
   "cell_type": "code",
   "execution_count": 1082,
   "id": "c5bdbe39",
   "metadata": {},
   "outputs": [],
   "source": [
    "clusters16 = agg_clustering.fit(data16_scaled_)"
   ]
  },
  {
   "cell_type": "code",
   "execution_count": 1083,
   "id": "3c2d1391",
   "metadata": {},
   "outputs": [
    {
     "data": {
      "text/plain": [
       "<matplotlib.collections.QuadMesh at 0x1c02fd3ecd0>"
      ]
     },
     "execution_count": 1083,
     "metadata": {},
     "output_type": "execute_result"
    },
    {
     "data": {
      "image/png": "[encoded data removed]",
      "text/plain": [
       "<Figure size 432x288 with 1 Axes>"
      ]
     },
     "metadata": {
      "needs_background": "light"
     },
     "output_type": "display_data"
    }
   ],
   "source": [
    "plt.pcolormesh(clusters16.labels_.reshape(61, 121), cmap=cm.get_cmap('Greys'))"
   ]
  },
  {
   "cell_type": "markdown",
   "id": "3b788cb4",
   "metadata": {},
   "source": [
    "## DBSCAN"
   ]
  },
  {
   "cell_type": "code",
   "execution_count": 1138,
   "id": "57a15914",
   "metadata": {},
   "outputs": [],
   "source": [
    "min_samples16 = int(perc * np.pi*(eps * max(arr16.shape))**2)\n",
    "params16 = {'eps': eps, 'min_samples': min_samples16}"
   ]
  },
  {
   "cell_type": "code",
   "execution_count": 1139,
   "id": "23c22ee1",
   "metadata": {},
   "outputs": [],
   "source": [
    "clustering16 = DBSCAN(**params16).fit(data16_scaled)"
   ]
  },
  {
   "cell_type": "code",
   "execution_count": 1140,
   "id": "b3b19f3a",
   "metadata": {},
   "outputs": [
    {
     "data": {
      "text/plain": [
       "<matplotlib.collections.QuadMesh at 0x1c02c26d940>"
      ]
     },
     "execution_count": 1140,
     "metadata": {},
     "output_type": "execute_result"
    },
    {
     "data": {
      "image/png": "[encoded data removed]",
      "text/plain": [
       "<Figure size 432x288 with 1 Axes>"
      ]
     },
     "metadata": {
      "needs_background": "light"
     },
     "output_type": "display_data"
    }
   ],
   "source": [
    "plt.pcolormesh(clustering16.labels_.reshape(61, 121),\n",
    "               cmap=cm.get_cmap('viridis'))"
   ]
  },
  {
   "cell_type": "markdown",
   "id": "3a1f6192",
   "metadata": {},
   "source": [
    "# scan 7"
   ]
  },
  {
   "cell_type": "code",
   "execution_count": 1009,
   "id": "3cc16d14",
   "metadata": {},
   "outputs": [],
   "source": [
    "arr7 = get_array(7)"
   ]
  },
  {
   "cell_type": "code",
   "execution_count": 1010,
   "id": "4d6fbe1f",
   "metadata": {},
   "outputs": [
    {
     "data": {
      "text/plain": [
       "(111, 121)"
      ]
     },
     "execution_count": 1010,
     "metadata": {},
     "output_type": "execute_result"
    }
   ],
   "source": [
    "arr7.shape"
   ]
  },
  {
   "cell_type": "code",
   "execution_count": 1011,
   "id": "69608d47",
   "metadata": {},
   "outputs": [
    {
     "data": {
      "text/plain": [
       "False"
      ]
     },
     "execution_count": 1011,
     "metadata": {},
     "output_type": "execute_result"
    }
   ],
   "source": [
    "np.any(np.isnan(arr7))"
   ]
  },
  {
   "cell_type": "code",
   "execution_count": 1019,
   "id": "7abea8b3",
   "metadata": {},
   "outputs": [
    {
     "data": {
      "image/png": "[encoded data removed]",
      "text/plain": [
       "<Figure size 432x288 with 1 Axes>"
      ]
     },
     "metadata": {
      "needs_background": "light"
     },
     "output_type": "display_data"
    }
   ],
   "source": [
    "data7, data7_scaled = aggregate_data(arr7)"
   ]
  },
  {
   "cell_type": "code",
   "execution_count": 1020,
   "id": "9c31b159",
   "metadata": {},
   "outputs": [
    {
     "data": {
      "text/html": [
       "<div>\n",
       "<style scoped>\n",
       "    .dataframe tbody tr th:only-of-type {\n",
       "        vertical-align: middle;\n",
       "    }\n",
       "\n",
       "    .dataframe tbody tr th {\n",
       "        vertical-align: top;\n",
       "    }\n",
       "\n",
       "    .dataframe thead th {\n",
       "        text-align: right;\n",
       "    }\n",
       "</style>\n",
       "<table border=\"1\" class=\"dataframe\">\n",
       "  <thead>\n",
       "    <tr style=\"text-align: right;\">\n",
       "      <th></th>\n",
       "      <th>x</th>\n",
       "      <th>y</th>\n",
       "      <th>Intensity</th>\n",
       "    </tr>\n",
       "  </thead>\n",
       "  <tbody>\n",
       "    <tr>\n",
       "      <th>8788</th>\n",
       "      <td>72</td>\n",
       "      <td>76</td>\n",
       "      <td>126873.656250</td>\n",
       "    </tr>\n",
       "    <tr>\n",
       "      <th>8909</th>\n",
       "      <td>73</td>\n",
       "      <td>76</td>\n",
       "      <td>87272.093750</td>\n",
       "    </tr>\n",
       "    <tr>\n",
       "      <th>8787</th>\n",
       "      <td>72</td>\n",
       "      <td>75</td>\n",
       "      <td>56463.394531</td>\n",
       "    </tr>\n",
       "    <tr>\n",
       "      <th>8908</th>\n",
       "      <td>73</td>\n",
       "      <td>75</td>\n",
       "      <td>52010.695312</td>\n",
       "    </tr>\n",
       "    <tr>\n",
       "      <th>12777</th>\n",
       "      <td>105</td>\n",
       "      <td>72</td>\n",
       "      <td>45701.597656</td>\n",
       "    </tr>\n",
       "    <tr>\n",
       "      <th>12656</th>\n",
       "      <td>104</td>\n",
       "      <td>72</td>\n",
       "      <td>45601.058594</td>\n",
       "    </tr>\n",
       "    <tr>\n",
       "      <th>13140</th>\n",
       "      <td>108</td>\n",
       "      <td>72</td>\n",
       "      <td>45278.992188</td>\n",
       "    </tr>\n",
       "    <tr>\n",
       "      <th>13141</th>\n",
       "      <td>108</td>\n",
       "      <td>73</td>\n",
       "      <td>44943.519531</td>\n",
       "    </tr>\n",
       "    <tr>\n",
       "      <th>12898</th>\n",
       "      <td>106</td>\n",
       "      <td>72</td>\n",
       "      <td>44731.503906</td>\n",
       "    </tr>\n",
       "    <tr>\n",
       "      <th>13020</th>\n",
       "      <td>107</td>\n",
       "      <td>73</td>\n",
       "      <td>44225.511719</td>\n",
       "    </tr>\n",
       "  </tbody>\n",
       "</table>\n",
       "</div>"
      ],
      "text/plain": [
       "         x   y      Intensity\n",
       "8788    72  76  126873.656250\n",
       "8909    73  76   87272.093750\n",
       "8787    72  75   56463.394531\n",
       "8908    73  75   52010.695312\n",
       "12777  105  72   45701.597656\n",
       "12656  104  72   45601.058594\n",
       "13140  108  72   45278.992188\n",
       "13141  108  73   44943.519531\n",
       "12898  106  72   44731.503906\n",
       "13020  107  73   44225.511719"
      ]
     },
     "execution_count": 1020,
     "metadata": {},
     "output_type": "execute_result"
    }
   ],
   "source": [
    "data7.sort_values(by='Intensity', ascending=False)[:10]"
   ]
  },
  {
   "cell_type": "code",
   "execution_count": 1028,
   "id": "e3f77e90",
   "metadata": {},
   "outputs": [],
   "source": [
    "arr7[72, 76] = 58000\n",
    "arr7[73, 76] = 58000\n",
    "arr7[72, 75] = 58000\n",
    "arr7[73, 75] = 58000"
   ]
  },
  {
   "cell_type": "markdown",
   "id": "cea82868",
   "metadata": {},
   "source": [
    "## Fixed scan_7"
   ]
  },
  {
   "cell_type": "code",
   "execution_count": 1034,
   "id": "8af09ec0",
   "metadata": {},
   "outputs": [
    {
     "data": {
      "image/png": "[encoded data removed]",
      "text/plain": [
       "<Figure size 432x288 with 1 Axes>"
      ]
     },
     "metadata": {
      "needs_background": "light"
     },
     "output_type": "display_data"
    }
   ],
   "source": [
    "data7, data7_scaled = aggregate_data(arr7)"
   ]
  },
  {
   "cell_type": "markdown",
   "id": "0491dcf6",
   "metadata": {},
   "source": [
    "## Dummy"
   ]
  },
  {
   "cell_type": "code",
   "execution_count": 1088,
   "id": "9d0f798d",
   "metadata": {},
   "outputs": [
    {
     "data": {
      "text/plain": [
       "<matplotlib.collections.QuadMesh at 0x1c02ff0f790>"
      ]
     },
     "execution_count": 1088,
     "metadata": {},
     "output_type": "execute_result"
    },
    {
     "data": {
      "image/png": "[encoded data removed]",
      "text/plain": [
       "<Figure size 432x288 with 1 Axes>"
      ]
     },
     "metadata": {
      "needs_background": "light"
     },
     "output_type": "display_data"
    }
   ],
   "source": [
    "plt.pcolormesh(arr7 > arr7.mean(), cmap=cm.get_cmap('Greys'))"
   ]
  },
  {
   "cell_type": "markdown",
   "id": "aed7b894",
   "metadata": {},
   "source": [
    "## Agglomerative clustering"
   ]
  },
  {
   "cell_type": "code",
   "execution_count": 1085,
   "id": "edd86998",
   "metadata": {},
   "outputs": [],
   "source": [
    "data7_scaled_ = data7_scaled.copy()\n",
    "data7_scaled_[:, 2] *= const"
   ]
  },
  {
   "cell_type": "code",
   "execution_count": 1086,
   "id": "151919a1",
   "metadata": {},
   "outputs": [],
   "source": [
    "clusters7 = agg_clustering.fit(data7_scaled_)"
   ]
  },
  {
   "cell_type": "code",
   "execution_count": 1087,
   "id": "fc2c4ff4",
   "metadata": {},
   "outputs": [
    {
     "data": {
      "text/plain": [
       "<matplotlib.collections.QuadMesh at 0x1c02feaab20>"
      ]
     },
     "execution_count": 1087,
     "metadata": {},
     "output_type": "execute_result"
    },
    {
     "data": {
      "image/png": "[encoded data removed]",
      "text/plain": [
       "<Figure size 432x288 with 1 Axes>"
      ]
     },
     "metadata": {
      "needs_background": "light"
     },
     "output_type": "display_data"
    }
   ],
   "source": [
    "plt.pcolormesh(clusters7.labels_.reshape(111, 121), cmap=cm.get_cmap('Greys'))"
   ]
  },
  {
   "cell_type": "markdown",
   "id": "a6b3b854",
   "metadata": {},
   "source": [
    "## DBSCAN"
   ]
  },
  {
   "cell_type": "code",
   "execution_count": 1144,
   "id": "eaa9a239",
   "metadata": {},
   "outputs": [],
   "source": [
    "min_samples7 = int(perc * np.pi*(eps * max(arr7.shape))**2)\n",
    "params7 = {'eps': eps, 'min_samples': min_samples7}"
   ]
  },
  {
   "cell_type": "code",
   "execution_count": 1145,
   "id": "607f9527",
   "metadata": {},
   "outputs": [
    {
     "data": {
      "text/plain": [
       "45"
      ]
     },
     "execution_count": 1145,
     "metadata": {},
     "output_type": "execute_result"
    }
   ],
   "source": [
    "min_samples7"
   ]
  },
  {
   "cell_type": "code",
   "execution_count": 1146,
   "id": "deb1455a",
   "metadata": {},
   "outputs": [],
   "source": [
    "clustering7 = DBSCAN(**params7).fit(data7_scaled)"
   ]
  },
  {
   "cell_type": "code",
   "execution_count": 1147,
   "id": "31cd7901",
   "metadata": {},
   "outputs": [
    {
     "data": {
      "text/plain": [
       "<matplotlib.collections.QuadMesh at 0x1c02862ad60>"
      ]
     },
     "execution_count": 1147,
     "metadata": {},
     "output_type": "execute_result"
    },
    {
     "data": {
      "image/png": "[encoded data removed]",
      "text/plain": [
       "<Figure size 432x288 with 1 Axes>"
      ]
     },
     "metadata": {
      "needs_background": "light"
     },
     "output_type": "display_data"
    }
   ],
   "source": [
    "plt.pcolormesh(clustering7.labels_.reshape(111, 121),\n",
    "               cmap=cm.get_cmap('viridis'))"
   ]
  },
  {
   "cell_type": "markdown",
   "id": "3910d9ce",
   "metadata": {},
   "source": [
    "# scan 9"
   ]
  },
  {
   "cell_type": "code",
   "execution_count": 1094,
   "id": "efee6498",
   "metadata": {},
   "outputs": [],
   "source": [
    "arr9 = get_array(9)"
   ]
  },
  {
   "cell_type": "code",
   "execution_count": 1095,
   "id": "ab7cb98a",
   "metadata": {},
   "outputs": [
    {
     "data": {
      "text/plain": [
       "(56, 61)"
      ]
     },
     "execution_count": 1095,
     "metadata": {},
     "output_type": "execute_result"
    }
   ],
   "source": [
    "arr9.shape"
   ]
  },
  {
   "cell_type": "code",
   "execution_count": 1096,
   "id": "abe49e4e",
   "metadata": {},
   "outputs": [
    {
     "data": {
      "text/plain": [
       "False"
      ]
     },
     "execution_count": 1096,
     "metadata": {},
     "output_type": "execute_result"
    }
   ],
   "source": [
    "np.any(np.isnan(arr9))"
   ]
  },
  {
   "cell_type": "code",
   "execution_count": 1046,
   "id": "a7e9aac9",
   "metadata": {
    "scrolled": true
   },
   "outputs": [
    {
     "data": {
      "image/png": "[encoded data removed]",
      "text/plain": [
       "<Figure size 432x288 with 1 Axes>"
      ]
     },
     "metadata": {
      "needs_background": "light"
     },
     "output_type": "display_data"
    }
   ],
   "source": [
    "data9, data9_scaled = aggregate_data(arr9)"
   ]
  },
  {
   "cell_type": "markdown",
   "id": "2c2ec6b7",
   "metadata": {},
   "source": [
    "# Dummy"
   ]
  },
  {
   "cell_type": "code",
   "execution_count": 1077,
   "id": "44a4f54e",
   "metadata": {},
   "outputs": [
    {
     "data": {
      "text/plain": [
       "<matplotlib.collections.QuadMesh at 0x1c02fd195e0>"
      ]
     },
     "execution_count": 1077,
     "metadata": {},
     "output_type": "execute_result"
    },
    {
     "data": {
      "image/png": "[encoded data removed]",
      "text/plain": [
       "<Figure size 432x288 with 1 Axes>"
      ]
     },
     "metadata": {
      "needs_background": "light"
     },
     "output_type": "display_data"
    }
   ],
   "source": [
    "plt.pcolormesh(arr9 < arr9.mean(), cmap=cm.get_cmap('Greys'))"
   ]
  },
  {
   "cell_type": "markdown",
   "id": "4c7edff8",
   "metadata": {},
   "source": [
    "## Agglomerative clustering"
   ]
  },
  {
   "cell_type": "code",
   "execution_count": 1152,
   "id": "50c36d78",
   "metadata": {},
   "outputs": [],
   "source": [
    "data9_scaled_ = data9_scaled.copy()\n",
    "data9_scaled_[:, 2] *= const/4"
   ]
  },
  {
   "cell_type": "code",
   "execution_count": 1153,
   "id": "03e1a884",
   "metadata": {},
   "outputs": [],
   "source": [
    "clusters9 = agg_clustering.fit(data9_scaled_)"
   ]
  },
  {
   "cell_type": "code",
   "execution_count": 1154,
   "id": "2c25b86c",
   "metadata": {},
   "outputs": [
    {
     "data": {
      "text/plain": [
       "<matplotlib.collections.QuadMesh at 0x1c02c1ec910>"
      ]
     },
     "execution_count": 1154,
     "metadata": {},
     "output_type": "execute_result"
    },
    {
     "data": {
      "image/png": "[encoded data removed]",
      "text/plain": [
       "<Figure size 432x288 with 1 Axes>"
      ]
     },
     "metadata": {
      "needs_background": "light"
     },
     "output_type": "display_data"
    }
   ],
   "source": [
    "plt.pcolormesh(clusters9.labels_.reshape(56, 61), cmap=cm.get_cmap('Greys'))"
   ]
  },
  {
   "cell_type": "markdown",
   "id": "da8ef0ca",
   "metadata": {},
   "source": [
    "## DBSCAN"
   ]
  },
  {
   "cell_type": "code",
   "execution_count": 1155,
   "id": "9fe39826",
   "metadata": {},
   "outputs": [],
   "source": [
    "min_samples9 = int(0.2 * np.pi*(eps * max(arr9.shape))**2)\n",
    "params9 = {'eps': eps, 'min_samples': min_samples9}"
   ]
  },
  {
   "cell_type": "code",
   "execution_count": 1156,
   "id": "d6a32f69",
   "metadata": {},
   "outputs": [],
   "source": [
    "clustering9 = DBSCAN(**params9).fit(data9_scaled)"
   ]
  },
  {
   "cell_type": "code",
   "execution_count": 1157,
   "id": "87e50028",
   "metadata": {},
   "outputs": [
    {
     "data": {
      "text/plain": [
       "<matplotlib.collections.QuadMesh at 0x1c02bf5f070>"
      ]
     },
     "execution_count": 1157,
     "metadata": {},
     "output_type": "execute_result"
    },
    {
     "data": {
      "image/png": "[encoded data removed]",
      "text/plain": [
       "<Figure size 432x288 with 1 Axes>"
      ]
     },
     "metadata": {
      "needs_background": "light"
     },
     "output_type": "display_data"
    }
   ],
   "source": [
    "plt.pcolormesh(clustering9.labels_.reshape(56, 61),\n",
    "               cmap=cm.get_cmap('viridis'))"
   ]
  }
 ],
 "metadata": {
  "kernelspec": {
   "display_name": "Python 3 (ipykernel)",
   "language": "python",
   "name": "python3"
  },
  "language_info": {
   "codemirror_mode": {
    "name": "ipython",
    "version": 3
   },
   "file_extension": ".py",
   "mimetype": "text/x-python",
   "name": "python",
   "nbconvert_exporter": "python",
   "pygments_lexer": "ipython3",
   "version": "3.8.12"
  }
 },
 "nbformat": 4,
 "nbformat_minor": 5
}
